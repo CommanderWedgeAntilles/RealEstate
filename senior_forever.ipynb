{
  "nbformat": 4,
  "nbformat_minor": 0,
  "metadata": {
    "colab": {
      "name": "senior forever.ipynb",
      "provenance": [],
      "collapsed_sections": [],
      "mount_file_id": "1AKyj_-SxnmI1b2-qaSI6CKvxM5so3zrC",
      "authorship_tag": "ABX9TyOA2zQZNjJFmrC4LpIERphi",
      "include_colab_link": true
    },
    "kernelspec": {
      "display_name": "Python 3",
      "name": "python3"
    },
    "language_info": {
      "name": "python"
    }
  },
  "cells": [
    {
      "cell_type": "markdown",
      "metadata": {
        "id": "view-in-github",
        "colab_type": "text"
      },
      "source": [
        "<a href=\"https://colab.research.google.com/github/CommanderWedgeAntilles/RealEstate/blob/main/senior_forever.ipynb\" target=\"_parent\"><img src=\"https://colab.research.google.com/assets/colab-badge.svg\" alt=\"Open In Colab\"/></a>"
      ]
    },
    {
      "cell_type": "code",
      "metadata": {
        "id": "dekloA-UJeeu"
      },
      "source": [
        " \n",
        "import numpy as np\n",
        "import pandas as pd\n",
        "import tensorflow as tf\n",
        "from tensorflow.keras import datasets, layers, models\n",
        "import matplotlib.pyplot as plt\n",
        "from tensorflow import keras\n",
        "from sklearn.model_selection import train_test_split\n",
        "from keras import backend as K\n",
        "from keras.models import Sequential\n",
        "from keras.layers import Activation\n",
        "from keras.optimizers import Adam\n",
        "import matplotlib.pyplot as plt\n",
        "from sklearn import metrics"
      ],
      "execution_count": null,
      "outputs": []
    },
    {
      "cell_type": "code",
      "metadata": {
        "id": "TTCD6UcvJftT"
      },
      "source": [
        "df = pd.read_csv('kingcounty.csv')"
      ],
      "execution_count": null,
      "outputs": []
    },
    {
      "cell_type": "code",
      "metadata": {
        "id": "wfYdacVjJihQ"
      },
      "source": [
        "X = df[['bedrooms','bathrooms','sqft_living','floors']]#,'zipcode'needs to be broken up into boolean categories\n",
        "Y = df[['price']]"
      ],
      "execution_count": null,
      "outputs": []
    },
    {
      "cell_type": "code",
      "metadata": {
        "id": "mglIihUeJpnP"
      },
      "source": [
        "X_train, X_test, y_train, y_test = train_test_split(X, Y, test_size=0.2)"
      ],
      "execution_count": null,
      "outputs": []
    },
    {
      "cell_type": "code",
      "metadata": {
        "id": "pUnfYdMZJtBP"
      },
      "source": [
        "model = Sequential()"
      ],
      "execution_count": null,
      "outputs": []
    },
    {
      "cell_type": "code",
      "metadata": {
        "id": "3KAT3NogJwXf"
      },
      "source": [
        "model.add(keras.layers.Dense(20, activation='relu', input_shape=(4,)))\n",
        "model.add(keras.layers.Dense(32, activation='relu'))\n",
        "model.add(keras.layers.Dense(32, activation='relu'))\n",
        "model.add(keras.layers.Dense(32, activation='relu'))\n",
        "model.add(keras.layers.Dense(32, activation='relu'))\n",
        "model.add(keras.layers.Dense(16, activation='relu'))\n",
        "model.add(keras.layers.Dense(16, activation='relu'))\n",
        "model.add(keras.layers.Dense(1))"
      ],
      "execution_count": null,
      "outputs": []
    },
    {
      "cell_type": "code",
      "metadata": {
        "colab": {
          "base_uri": "https://localhost:8080/"
        },
        "id": "CHuJ3Y4rVM45",
        "outputId": "96279b8d-6811-469f-f6ef-b09b8ba45a72"
      },
      "source": [
        "model.summary()"
      ],
      "execution_count": null,
      "outputs": [
        {
          "output_type": "stream",
          "text": [
            "Model: \"sequential_26\"\n",
            "_________________________________________________________________\n",
            "Layer (type)                 Output Shape              Param #   \n",
            "=================================================================\n",
            "dense_270 (Dense)            (None, 20)                100       \n",
            "_________________________________________________________________\n",
            "dense_271 (Dense)            (None, 32)                672       \n",
            "_________________________________________________________________\n",
            "dense_272 (Dense)            (None, 32)                1056      \n",
            "_________________________________________________________________\n",
            "dense_273 (Dense)            (None, 32)                1056      \n",
            "_________________________________________________________________\n",
            "dense_274 (Dense)            (None, 32)                1056      \n",
            "_________________________________________________________________\n",
            "dense_275 (Dense)            (None, 16)                528       \n",
            "_________________________________________________________________\n",
            "dense_276 (Dense)            (None, 16)                272       \n",
            "_________________________________________________________________\n",
            "dense_277 (Dense)            (None, 1)                 17        \n",
            "=================================================================\n",
            "Total params: 4,757\n",
            "Trainable params: 4,757\n",
            "Non-trainable params: 0\n",
            "_________________________________________________________________\n"
          ],
          "name": "stdout"
        }
      ]
    },
    {
      "cell_type": "code",
      "metadata": {
        "id": "kdu9Bh0ZVMuT"
      },
      "source": [
        "model.compile(optimizer='adam', loss=[tf.keras.losses.MeanSquaredLogarithmicError()], metrics=['msle'])"
      ],
      "execution_count": null,
      "outputs": []
    },
    {
      "cell_type": "code",
      "metadata": {
        "colab": {
          "base_uri": "https://localhost:8080/"
        },
        "id": "POyaPUMOaj_H",
        "outputId": "d9cccbb6-493f-47e8-d683-28ebdd7b69d0"
      },
      "source": [
        "X_train.info\n"
      ],
      "execution_count": null,
      "outputs": [
        {
          "output_type": "execute_result",
          "data": {
            "text/plain": [
              "<bound method DataFrame.info of        bedrooms  bathrooms  sqft_living  floors\n",
              "11194         3       2.75         2090     1.0\n",
              "21049         4       3.50         3906     2.0\n",
              "21146         5       2.75         2880     2.0\n",
              "5851          4       3.00         3810     2.0\n",
              "14442         4       2.50         3220     2.0\n",
              "...         ...        ...          ...     ...\n",
              "16738         3       1.00         1200     1.0\n",
              "17186         3       2.50         1680     2.0\n",
              "5924          3       2.00         1800     2.0\n",
              "239           6       2.50         4410     1.0\n",
              "13755         3       2.25         2340     1.0\n",
              "\n",
              "[17290 rows x 4 columns]>"
            ]
          },
          "metadata": {
            "tags": []
          },
          "execution_count": 381
        }
      ]
    },
    {
      "cell_type": "code",
      "metadata": {
        "colab": {
          "base_uri": "https://localhost:8080/"
        },
        "id": "m7V3D_woJxwB",
        "outputId": "ea563b7a-ac33-4e05-b2cf-f8a6b4ebea0d"
      },
      "source": [
        "model.fit(X_train, y_train, epochs=30, callbacks =[keras.callbacks.EarlyStopping(patience=5)], validation_data=(X_test, y_test), validation_batch_size=14515)#"
      ],
      "execution_count": null,
      "outputs": [
        {
          "output_type": "stream",
          "text": [
            "Epoch 1/30\n",
            "541/541 [==============================] - 2s 2ms/step - loss: 23.7263 - msle: 23.7263 - val_loss: 0.1572 - val_msle: 0.1572\n",
            "Epoch 2/30\n",
            "541/541 [==============================] - 1s 2ms/step - loss: 0.1569 - msle: 0.1569 - val_loss: 0.1566 - val_msle: 0.1566\n",
            "Epoch 3/30\n",
            "541/541 [==============================] - 1s 2ms/step - loss: 0.1535 - msle: 0.1535 - val_loss: 0.1561 - val_msle: 0.1561\n",
            "Epoch 4/30\n",
            "541/541 [==============================] - 1s 2ms/step - loss: 0.1542 - msle: 0.1542 - val_loss: 0.1562 - val_msle: 0.1562\n",
            "Epoch 5/30\n",
            "541/541 [==============================] - 1s 2ms/step - loss: 0.1551 - msle: 0.1551 - val_loss: 0.1562 - val_msle: 0.1562\n",
            "Epoch 6/30\n",
            "541/541 [==============================] - 1s 1ms/step - loss: 0.1566 - msle: 0.1566 - val_loss: 0.1569 - val_msle: 0.1569\n",
            "Epoch 7/30\n",
            "541/541 [==============================] - 1s 2ms/step - loss: 0.1531 - msle: 0.1531 - val_loss: 0.1561 - val_msle: 0.1561\n",
            "Epoch 8/30\n",
            "541/541 [==============================] - 1s 2ms/step - loss: 0.1547 - msle: 0.1547 - val_loss: 0.1571 - val_msle: 0.1571\n",
            "Epoch 9/30\n",
            "541/541 [==============================] - 1s 2ms/step - loss: 0.1587 - msle: 0.1587 - val_loss: 0.1566 - val_msle: 0.1566\n",
            "Epoch 10/30\n",
            "541/541 [==============================] - 1s 1ms/step - loss: 0.1557 - msle: 0.1557 - val_loss: 0.1561 - val_msle: 0.1561\n",
            "Epoch 11/30\n",
            "541/541 [==============================] - 1s 2ms/step - loss: 0.1544 - msle: 0.1544 - val_loss: 0.1563 - val_msle: 0.1563\n",
            "Epoch 12/30\n",
            "541/541 [==============================] - 1s 2ms/step - loss: 0.1557 - msle: 0.1557 - val_loss: 0.1560 - val_msle: 0.1560\n",
            "Epoch 13/30\n",
            "541/541 [==============================] - 1s 2ms/step - loss: 0.1555 - msle: 0.1555 - val_loss: 0.1563 - val_msle: 0.1563\n",
            "Epoch 14/30\n",
            "541/541 [==============================] - 1s 1ms/step - loss: 0.1551 - msle: 0.1551 - val_loss: 0.1567 - val_msle: 0.1567\n",
            "Epoch 15/30\n",
            "541/541 [==============================] - 1s 2ms/step - loss: 0.1567 - msle: 0.1567 - val_loss: 0.1567 - val_msle: 0.1567\n",
            "Epoch 16/30\n",
            "541/541 [==============================] - 1s 2ms/step - loss: 0.1552 - msle: 0.1552 - val_loss: 0.1558 - val_msle: 0.1558\n",
            "Epoch 17/30\n",
            "541/541 [==============================] - 1s 2ms/step - loss: 0.1593 - msle: 0.1593 - val_loss: 0.1573 - val_msle: 0.1573\n",
            "Epoch 18/30\n",
            "541/541 [==============================] - 1s 2ms/step - loss: 0.1557 - msle: 0.1557 - val_loss: 0.1558 - val_msle: 0.1558\n",
            "Epoch 19/30\n",
            "541/541 [==============================] - 1s 2ms/step - loss: 0.1566 - msle: 0.1566 - val_loss: 0.1564 - val_msle: 0.1564\n",
            "Epoch 20/30\n",
            "541/541 [==============================] - 1s 2ms/step - loss: 0.1558 - msle: 0.1558 - val_loss: 0.1577 - val_msle: 0.1577\n",
            "Epoch 21/30\n",
            "541/541 [==============================] - 1s 2ms/step - loss: 0.1573 - msle: 0.1573 - val_loss: 0.1567 - val_msle: 0.1567\n",
            "Epoch 22/30\n",
            "541/541 [==============================] - 1s 2ms/step - loss: 0.1582 - msle: 0.1582 - val_loss: 0.1558 - val_msle: 0.1558\n",
            "Epoch 23/30\n",
            "541/541 [==============================] - 1s 1ms/step - loss: 0.1520 - msle: 0.1520 - val_loss: 0.1558 - val_msle: 0.1558\n"
          ],
          "name": "stdout"
        },
        {
          "output_type": "execute_result",
          "data": {
            "text/plain": [
              "<tensorflow.python.keras.callbacks.History at 0x7f6618c08a50>"
            ]
          },
          "metadata": {
            "tags": []
          },
          "execution_count": 382
        }
      ]
    },
    {
      "cell_type": "code",
      "metadata": {
        "colab": {
          "base_uri": "https://localhost:8080/",
          "height": 419
        },
        "id": "MqYcYjMGsiSe",
        "outputId": "6276300d-743d-48bc-c897-b5b2d3b976b9"
      },
      "source": [
        "y_test"
      ],
      "execution_count": null,
      "outputs": [
        {
          "output_type": "execute_result",
          "data": {
            "text/html": [
              "<div>\n",
              "<style scoped>\n",
              "    .dataframe tbody tr th:only-of-type {\n",
              "        vertical-align: middle;\n",
              "    }\n",
              "\n",
              "    .dataframe tbody tr th {\n",
              "        vertical-align: top;\n",
              "    }\n",
              "\n",
              "    .dataframe thead th {\n",
              "        text-align: right;\n",
              "    }\n",
              "</style>\n",
              "<table border=\"1\" class=\"dataframe\">\n",
              "  <thead>\n",
              "    <tr style=\"text-align: right;\">\n",
              "      <th></th>\n",
              "      <th>price</th>\n",
              "    </tr>\n",
              "  </thead>\n",
              "  <tbody>\n",
              "    <tr>\n",
              "      <th>11488</th>\n",
              "      <td>1325000.0</td>\n",
              "    </tr>\n",
              "    <tr>\n",
              "      <th>14764</th>\n",
              "      <td>530000.0</td>\n",
              "    </tr>\n",
              "    <tr>\n",
              "      <th>5678</th>\n",
              "      <td>575000.0</td>\n",
              "    </tr>\n",
              "    <tr>\n",
              "      <th>4523</th>\n",
              "      <td>1236000.0</td>\n",
              "    </tr>\n",
              "    <tr>\n",
              "      <th>13941</th>\n",
              "      <td>269950.0</td>\n",
              "    </tr>\n",
              "    <tr>\n",
              "      <th>...</th>\n",
              "      <td>...</td>\n",
              "    </tr>\n",
              "    <tr>\n",
              "      <th>16333</th>\n",
              "      <td>869000.0</td>\n",
              "    </tr>\n",
              "    <tr>\n",
              "      <th>11466</th>\n",
              "      <td>405000.0</td>\n",
              "    </tr>\n",
              "    <tr>\n",
              "      <th>4268</th>\n",
              "      <td>2400000.0</td>\n",
              "    </tr>\n",
              "    <tr>\n",
              "      <th>1737</th>\n",
              "      <td>189950.0</td>\n",
              "    </tr>\n",
              "    <tr>\n",
              "      <th>588</th>\n",
              "      <td>370000.0</td>\n",
              "    </tr>\n",
              "  </tbody>\n",
              "</table>\n",
              "<p>4323 rows × 1 columns</p>\n",
              "</div>"
            ],
            "text/plain": [
              "           price\n",
              "11488  1325000.0\n",
              "14764   530000.0\n",
              "5678    575000.0\n",
              "4523   1236000.0\n",
              "13941   269950.0\n",
              "...          ...\n",
              "16333   869000.0\n",
              "11466   405000.0\n",
              "4268   2400000.0\n",
              "1737    189950.0\n",
              "588     370000.0\n",
              "\n",
              "[4323 rows x 1 columns]"
            ]
          },
          "metadata": {
            "tags": []
          },
          "execution_count": 397
        }
      ]
    },
    {
      "cell_type": "code",
      "metadata": {
        "colab": {
          "base_uri": "https://localhost:8080/"
        },
        "id": "65qaK1DLPR72",
        "outputId": "d8b7af70-03ef-4b7a-f35c-5ca547f04f59"
      },
      "source": [
        "model.summary()\n"
      ],
      "execution_count": null,
      "outputs": [
        {
          "output_type": "stream",
          "text": [
            "Model: \"sequential_26\"\n",
            "_________________________________________________________________\n",
            "Layer (type)                 Output Shape              Param #   \n",
            "=================================================================\n",
            "dense_270 (Dense)            (None, 20)                100       \n",
            "_________________________________________________________________\n",
            "dense_271 (Dense)            (None, 32)                672       \n",
            "_________________________________________________________________\n",
            "dense_272 (Dense)            (None, 32)                1056      \n",
            "_________________________________________________________________\n",
            "dense_273 (Dense)            (None, 32)                1056      \n",
            "_________________________________________________________________\n",
            "dense_274 (Dense)            (None, 32)                1056      \n",
            "_________________________________________________________________\n",
            "dense_275 (Dense)            (None, 16)                528       \n",
            "_________________________________________________________________\n",
            "dense_276 (Dense)            (None, 16)                272       \n",
            "_________________________________________________________________\n",
            "dense_277 (Dense)            (None, 1)                 17        \n",
            "=================================================================\n",
            "Total params: 4,757\n",
            "Trainable params: 4,757\n",
            "Non-trainable params: 0\n",
            "_________________________________________________________________\n"
          ],
          "name": "stdout"
        }
      ]
    },
    {
      "cell_type": "code",
      "metadata": {
        "colab": {
          "base_uri": "https://localhost:8080/"
        },
        "id": "DmlL8MW6J3F1",
        "outputId": "e5f54ee9-235a-494b-f732-d4a60a18bb3c"
      },
      "source": [
        "test_data = np.array([3,\t1.75,\t1980,\t2.0])\n",
        "\n",
        "print(model.predict(test_data.reshape(1,4), batch_size=1))"
      ],
      "execution_count": null,
      "outputs": [
        {
          "output_type": "stream",
          "text": [
            "WARNING:tensorflow:11 out of the last 11 calls to <function Model.make_predict_function.<locals>.predict_function at 0x7f662179fd40> triggered tf.function retracing. Tracing is expensive and the excessive number of tracings could be due to (1) creating @tf.function repeatedly in a loop, (2) passing tensors with different shapes, (3) passing Python objects instead of tensors. For (1), please define your @tf.function outside of the loop. For (2), @tf.function has experimental_relax_shapes=True option that relaxes argument shapes that can avoid unnecessary retracing. For (3), please refer to https://www.tensorflow.org/guide/function#controlling_retracing and https://www.tensorflow.org/api_docs/python/tf/function for  more details.\n",
            "[[464981.03]]\n"
          ],
          "name": "stdout"
        }
      ]
    },
    {
      "cell_type": "code",
      "metadata": {
        "colab": {
          "base_uri": "https://localhost:8080/",
          "height": 1000
        },
        "id": "Mj-44BbHY1YI",
        "outputId": "b4897934-14a8-4457-9f38-beed8035b3fe"
      },
      "source": [
        "history = model.fit(X_train, y_train, epochs=30, callbacks =[keras.callbacks.EarlyStopping(patience=5)], validation_data=(X_test, y_test), validation_batch_size=14515)\n",
        "# plot metrics\n",
        "plt.plot(history.history['msle'])\n",
        "plt.plot(history.history['val_msle'])\n",
        "plt.plot(history.history['loss'])\n",
        "plt.show()"
      ],
      "execution_count": null,
      "outputs": [
        {
          "output_type": "stream",
          "text": [
            "Epoch 1/30\n",
            "541/541 [==============================] - 1s 2ms/step - loss: 0.1557 - msle: 0.1557 - val_loss: 0.1550 - val_msle: 0.1550\n",
            "Epoch 2/30\n",
            "541/541 [==============================] - 1s 1ms/step - loss: 0.1562 - msle: 0.1562 - val_loss: 0.1572 - val_msle: 0.1572\n",
            "Epoch 3/30\n",
            "541/541 [==============================] - 1s 2ms/step - loss: 0.1559 - msle: 0.1559 - val_loss: 0.1627 - val_msle: 0.1627\n",
            "Epoch 4/30\n",
            "541/541 [==============================] - 1s 1ms/step - loss: 0.1558 - msle: 0.1558 - val_loss: 0.1549 - val_msle: 0.1549\n",
            "Epoch 5/30\n",
            "541/541 [==============================] - 1s 2ms/step - loss: 0.1552 - msle: 0.1552 - val_loss: 0.1545 - val_msle: 0.1545\n",
            "Epoch 6/30\n",
            "541/541 [==============================] - 1s 2ms/step - loss: 0.1554 - msle: 0.1554 - val_loss: 0.1594 - val_msle: 0.1594\n",
            "Epoch 7/30\n",
            "541/541 [==============================] - 1s 1ms/step - loss: 0.1556 - msle: 0.1556 - val_loss: 0.1581 - val_msle: 0.1581\n",
            "Epoch 8/30\n",
            "541/541 [==============================] - 1s 2ms/step - loss: 0.1549 - msle: 0.1549 - val_loss: 0.1549 - val_msle: 0.1549\n",
            "Epoch 9/30\n",
            "541/541 [==============================] - 1s 1ms/step - loss: 0.1548 - msle: 0.1548 - val_loss: 0.1540 - val_msle: 0.1540\n",
            "Epoch 10/30\n",
            "541/541 [==============================] - 1s 2ms/step - loss: 0.1547 - msle: 0.1547 - val_loss: 0.1546 - val_msle: 0.1546\n",
            "Epoch 11/30\n",
            "541/541 [==============================] - 1s 2ms/step - loss: 0.1549 - msle: 0.1549 - val_loss: 0.1544 - val_msle: 0.1544\n",
            "Epoch 12/30\n",
            "541/541 [==============================] - 1s 1ms/step - loss: 0.1545 - msle: 0.1545 - val_loss: 0.1540 - val_msle: 0.1540\n",
            "Epoch 13/30\n",
            "541/541 [==============================] - 1s 1ms/step - loss: 0.1542 - msle: 0.1542 - val_loss: 0.1534 - val_msle: 0.1534\n",
            "Epoch 14/30\n",
            "541/541 [==============================] - 1s 2ms/step - loss: 0.1546 - msle: 0.1546 - val_loss: 0.1538 - val_msle: 0.1538\n",
            "Epoch 15/30\n",
            "541/541 [==============================] - 1s 2ms/step - loss: 0.1539 - msle: 0.1539 - val_loss: 0.1560 - val_msle: 0.1560\n",
            "Epoch 16/30\n",
            "541/541 [==============================] - 1s 2ms/step - loss: 0.1542 - msle: 0.1542 - val_loss: 0.1579 - val_msle: 0.1579\n",
            "Epoch 17/30\n",
            "541/541 [==============================] - 1s 2ms/step - loss: 0.1535 - msle: 0.1535 - val_loss: 0.1530 - val_msle: 0.1530\n",
            "Epoch 18/30\n",
            "541/541 [==============================] - 1s 2ms/step - loss: 0.1534 - msle: 0.1534 - val_loss: 0.1534 - val_msle: 0.1534\n",
            "Epoch 19/30\n",
            "541/541 [==============================] - 1s 2ms/step - loss: 0.1530 - msle: 0.1530 - val_loss: 0.1519 - val_msle: 0.1519\n",
            "Epoch 20/30\n",
            "541/541 [==============================] - 1s 2ms/step - loss: 0.1528 - msle: 0.1528 - val_loss: 0.1525 - val_msle: 0.1525\n",
            "Epoch 21/30\n",
            "541/541 [==============================] - 1s 2ms/step - loss: 0.1523 - msle: 0.1523 - val_loss: 0.1534 - val_msle: 0.1534\n",
            "Epoch 22/30\n",
            "541/541 [==============================] - 1s 2ms/step - loss: 0.1517 - msle: 0.1517 - val_loss: 0.1500 - val_msle: 0.1500\n",
            "Epoch 23/30\n",
            "541/541 [==============================] - 1s 2ms/step - loss: 0.1516 - msle: 0.1516 - val_loss: 0.1491 - val_msle: 0.1491\n",
            "Epoch 24/30\n",
            "541/541 [==============================] - 1s 2ms/step - loss: 0.1501 - msle: 0.1501 - val_loss: 0.1514 - val_msle: 0.1514\n",
            "Epoch 25/30\n",
            "541/541 [==============================] - 1s 1ms/step - loss: 0.1498 - msle: 0.1498 - val_loss: 0.1476 - val_msle: 0.1476\n",
            "Epoch 26/30\n",
            "541/541 [==============================] - 1s 2ms/step - loss: 0.1486 - msle: 0.1486 - val_loss: 0.1477 - val_msle: 0.1477\n",
            "Epoch 27/30\n",
            "541/541 [==============================] - 1s 1ms/step - loss: 0.1478 - msle: 0.1478 - val_loss: 0.1486 - val_msle: 0.1486\n",
            "Epoch 28/30\n",
            "541/541 [==============================] - 1s 2ms/step - loss: 0.1468 - msle: 0.1468 - val_loss: 0.1462 - val_msle: 0.1462\n",
            "Epoch 29/30\n",
            "541/541 [==============================] - 1s 2ms/step - loss: 0.1476 - msle: 0.1476 - val_loss: 0.1509 - val_msle: 0.1509\n",
            "Epoch 30/30\n",
            "541/541 [==============================] - 1s 2ms/step - loss: 0.1469 - msle: 0.1469 - val_loss: 0.1462 - val_msle: 0.1462\n"
          ],
          "name": "stdout"
        },
        {
          "output_type": "display_data",
          "data": {
            "image/png": "[encoded data removed]",
            "text/plain": [
              "<Figure size 432x288 with 1 Axes>"
            ]
          },
          "metadata": {
            "tags": [],
            "needs_background": "light"
          }
        }
      ]
    },
    {
      "cell_type": "code",
      "metadata": {
        "id": "yJ1WhOx_lOpR"
      },
      "source": [
        "#model.save('closeone2345')"
      ],
      "execution_count": null,
      "outputs": []
    },
    {
      "cell_type": "code",
      "metadata": {
        "colab": {
          "base_uri": "https://localhost:8080/"
        },
        "id": "YX5GJjf-qgFN",
        "outputId": "f8bc62c1-f1d3-4c41-b70e-5a2aac9c9317"
      },
      "source": [
        "test_data = np.array([5,    2.50,   2910,   1.0])\n",
        " \n",
        "print(model.predict(test_data.reshape(1,4), batch_size=1))"
      ],
      "execution_count": null,
      "outputs": [
        {
          "output_type": "stream",
          "text": [
            "[[657288.44]]\n"
          ],
          "name": "stdout"
        }
      ]
    },
    {
      "cell_type": "code",
      "metadata": {
        "id": "v7cTJbKOgxgk",
        "colab": {
          "base_uri": "https://localhost:8080/",
          "height": 163
        },
        "outputId": "90c350e1-f24a-4e66-b0e8-2cb603d580a4"
      },
      "source": [
        "df.isnull()"
      ],
      "execution_count": null,
      "outputs": [
        {
          "output_type": "error",
          "ename": "NameError",
          "evalue": "ignored",
          "traceback": [
            "\u001b[0;31m---------------------------------------------------------------------------\u001b[0m",
            "\u001b[0;31mNameError\u001b[0m                                 Traceback (most recent call last)",
            "\u001b[0;32m<ipython-input-2-cc81fd27034f>\u001b[0m in \u001b[0;36m<module>\u001b[0;34m()\u001b[0m\n\u001b[0;32m----> 1\u001b[0;31m \u001b[0mdf\u001b[0m\u001b[0;34m.\u001b[0m\u001b[0misnull\u001b[0m\u001b[0;34m(\u001b[0m\u001b[0;34m)\u001b[0m\u001b[0;34m\u001b[0m\u001b[0;34m\u001b[0m\u001b[0m\n\u001b[0m",
            "\u001b[0;31mNameError\u001b[0m: name 'df' is not defined"
          ]
        }
      ]
    }
  ]
}