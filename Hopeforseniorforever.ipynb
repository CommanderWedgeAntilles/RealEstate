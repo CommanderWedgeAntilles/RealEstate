{
  "nbformat": 4,
  "nbformat_minor": 0,
  "metadata": {
    "colab": {
      "name": "Hopeforseniorforever.ipynb",
      "provenance": [],
      "collapsed_sections": [],
      "mount_file_id": "1NakkUdTPiXCTPHUy_yWuTN5ZWEqgSn3S",
      "authorship_tag": "ABX9TyOMzaE6NH3ehtzBUUhJP96/",
      "include_colab_link": true
    },
    "kernelspec": {
      "display_name": "Python 3",
      "name": "python3"
    },
    "language_info": {
      "name": "python"
    }
  },
  "cells": [
    {
      "cell_type": "markdown",
      "metadata": {
        "id": "view-in-github",
        "colab_type": "text"
      },
      "source": [
        "<a href=\"https://colab.research.google.com/github/CommanderWedgeAntilles/RealEstate/blob/main/Hopeforseniorforever.ipynb\" target=\"_parent\"><img src=\"https://colab.research.google.com/assets/colab-badge.svg\" alt=\"Open In Colab\"/></a>"
      ]
    },
    {
      "cell_type": "code",
      "metadata": {
        "id": "dekloA-UJeeu"
      },
      "source": [
        "\n",
        "import numpy as np\n",
        "import pandas as pd\n",
        "import tensorflow as tf\n",
        "from tensorflow.keras import datasets, layers, models\n",
        "import matplotlib.pyplot as plt\n",
        "from tensorflow import keras\n",
        "from sklearn.model_selection import train_test_split\n",
        "from keras import backend as K\n",
        "from keras.models import Sequential\n",
        "from keras.layers import Activation\n",
        "from keras.optimizers import Adam\n",
        "import matplotlib.pyplot as plt\n",
        "from sklearn import metrics"
      ],
      "execution_count": null,
      "outputs": []
    },
    {
      "cell_type": "code",
      "metadata": {
        "id": "TTCD6UcvJftT"
      },
      "source": [
        "df = pd.read_csv('kcData.csv')"
      ],
      "execution_count": null,
      "outputs": []
    },
    {
      "cell_type": "code",
      "metadata": {
        "colab": {
          "base_uri": "https://localhost:8080/",
          "height": 439
        },
        "id": "_OlbL8JQtk9L",
        "outputId": "ef2402bf-11df-4d49-bf1d-13c36ca5c03a"
      },
      "source": [
        "df"
      ],
      "execution_count": null,
      "outputs": [
        {
          "output_type": "execute_result",
          "data": {
            "text/html": [
              "<div>\n",
              "<style scoped>\n",
              "    .dataframe tbody tr th:only-of-type {\n",
              "        vertical-align: middle;\n",
              "    }\n",
              "\n",
              "    .dataframe tbody tr th {\n",
              "        vertical-align: top;\n",
              "    }\n",
              "\n",
              "    .dataframe thead th {\n",
              "        text-align: right;\n",
              "    }\n",
              "</style>\n",
              "<table border=\"1\" class=\"dataframe\">\n",
              "  <thead>\n",
              "    <tr style=\"text-align: right;\">\n",
              "      <th></th>\n",
              "      <th>id</th>\n",
              "      <th>date</th>\n",
              "      <th>price</th>\n",
              "      <th>bedrooms</th>\n",
              "      <th>bathrooms</th>\n",
              "      <th>sqft_living</th>\n",
              "      <th>sqft_lot</th>\n",
              "      <th>floors</th>\n",
              "      <th>waterfront</th>\n",
              "      <th>view</th>\n",
              "      <th>condition</th>\n",
              "      <th>grade</th>\n",
              "      <th>sqft_above</th>\n",
              "      <th>sqft_basement</th>\n",
              "      <th>yr_built</th>\n",
              "      <th>yr_renovated</th>\n",
              "      <th>zipcode</th>\n",
              "      <th>lat</th>\n",
              "      <th>long</th>\n",
              "      <th>sqft_living15</th>\n",
              "      <th>sqft_lot15</th>\n",
              "    </tr>\n",
              "  </thead>\n",
              "  <tbody>\n",
              "    <tr>\n",
              "      <th>0</th>\n",
              "      <td>7129300520</td>\n",
              "      <td>20141013T000000</td>\n",
              "      <td>221900.0</td>\n",
              "      <td>3</td>\n",
              "      <td>1.00</td>\n",
              "      <td>1180</td>\n",
              "      <td>5650</td>\n",
              "      <td>1.0</td>\n",
              "      <td>0</td>\n",
              "      <td>0</td>\n",
              "      <td>3</td>\n",
              "      <td>7</td>\n",
              "      <td>1180.0</td>\n",
              "      <td>0</td>\n",
              "      <td>1955</td>\n",
              "      <td>0</td>\n",
              "      <td>98178</td>\n",
              "      <td>47.5112</td>\n",
              "      <td>-122.257</td>\n",
              "      <td>1340</td>\n",
              "      <td>5650</td>\n",
              "    </tr>\n",
              "    <tr>\n",
              "      <th>1</th>\n",
              "      <td>6414100192</td>\n",
              "      <td>20141209T000000</td>\n",
              "      <td>538000.0</td>\n",
              "      <td>3</td>\n",
              "      <td>2.25</td>\n",
              "      <td>2570</td>\n",
              "      <td>7242</td>\n",
              "      <td>2.0</td>\n",
              "      <td>0</td>\n",
              "      <td>0</td>\n",
              "      <td>3</td>\n",
              "      <td>7</td>\n",
              "      <td>2170.0</td>\n",
              "      <td>400</td>\n",
              "      <td>1951</td>\n",
              "      <td>1991</td>\n",
              "      <td>98125</td>\n",
              "      <td>47.7210</td>\n",
              "      <td>-122.319</td>\n",
              "      <td>1690</td>\n",
              "      <td>7639</td>\n",
              "    </tr>\n",
              "    <tr>\n",
              "      <th>2</th>\n",
              "      <td>5631500400</td>\n",
              "      <td>20150225T000000</td>\n",
              "      <td>180000.0</td>\n",
              "      <td>2</td>\n",
              "      <td>1.00</td>\n",
              "      <td>770</td>\n",
              "      <td>10000</td>\n",
              "      <td>1.0</td>\n",
              "      <td>0</td>\n",
              "      <td>0</td>\n",
              "      <td>3</td>\n",
              "      <td>6</td>\n",
              "      <td>770.0</td>\n",
              "      <td>0</td>\n",
              "      <td>1933</td>\n",
              "      <td>0</td>\n",
              "      <td>98028</td>\n",
              "      <td>47.7379</td>\n",
              "      <td>-122.233</td>\n",
              "      <td>2720</td>\n",
              "      <td>8062</td>\n",
              "    </tr>\n",
              "    <tr>\n",
              "      <th>3</th>\n",
              "      <td>2487200875</td>\n",
              "      <td>20141209T000000</td>\n",
              "      <td>604000.0</td>\n",
              "      <td>4</td>\n",
              "      <td>3.00</td>\n",
              "      <td>1960</td>\n",
              "      <td>5000</td>\n",
              "      <td>1.0</td>\n",
              "      <td>0</td>\n",
              "      <td>0</td>\n",
              "      <td>5</td>\n",
              "      <td>7</td>\n",
              "      <td>1050.0</td>\n",
              "      <td>910</td>\n",
              "      <td>1965</td>\n",
              "      <td>0</td>\n",
              "      <td>98136</td>\n",
              "      <td>47.5208</td>\n",
              "      <td>-122.393</td>\n",
              "      <td>1360</td>\n",
              "      <td>5000</td>\n",
              "    </tr>\n",
              "    <tr>\n",
              "      <th>4</th>\n",
              "      <td>1954400510</td>\n",
              "      <td>20150218T000000</td>\n",
              "      <td>510000.0</td>\n",
              "      <td>3</td>\n",
              "      <td>2.00</td>\n",
              "      <td>1680</td>\n",
              "      <td>8080</td>\n",
              "      <td>1.0</td>\n",
              "      <td>0</td>\n",
              "      <td>0</td>\n",
              "      <td>3</td>\n",
              "      <td>8</td>\n",
              "      <td>1680.0</td>\n",
              "      <td>0</td>\n",
              "      <td>1987</td>\n",
              "      <td>0</td>\n",
              "      <td>98074</td>\n",
              "      <td>47.6168</td>\n",
              "      <td>-122.045</td>\n",
              "      <td>1800</td>\n",
              "      <td>7503</td>\n",
              "    </tr>\n",
              "    <tr>\n",
              "      <th>...</th>\n",
              "      <td>...</td>\n",
              "      <td>...</td>\n",
              "      <td>...</td>\n",
              "      <td>...</td>\n",
              "      <td>...</td>\n",
              "      <td>...</td>\n",
              "      <td>...</td>\n",
              "      <td>...</td>\n",
              "      <td>...</td>\n",
              "      <td>...</td>\n",
              "      <td>...</td>\n",
              "      <td>...</td>\n",
              "      <td>...</td>\n",
              "      <td>...</td>\n",
              "      <td>...</td>\n",
              "      <td>...</td>\n",
              "      <td>...</td>\n",
              "      <td>...</td>\n",
              "      <td>...</td>\n",
              "      <td>...</td>\n",
              "      <td>...</td>\n",
              "    </tr>\n",
              "    <tr>\n",
              "      <th>21608</th>\n",
              "      <td>263000018</td>\n",
              "      <td>20140521T000000</td>\n",
              "      <td>360000.0</td>\n",
              "      <td>3</td>\n",
              "      <td>2.50</td>\n",
              "      <td>1530</td>\n",
              "      <td>1131</td>\n",
              "      <td>3.0</td>\n",
              "      <td>0</td>\n",
              "      <td>0</td>\n",
              "      <td>3</td>\n",
              "      <td>8</td>\n",
              "      <td>1530.0</td>\n",
              "      <td>0</td>\n",
              "      <td>2009</td>\n",
              "      <td>0</td>\n",
              "      <td>98103</td>\n",
              "      <td>47.6993</td>\n",
              "      <td>-122.346</td>\n",
              "      <td>1530</td>\n",
              "      <td>1509</td>\n",
              "    </tr>\n",
              "    <tr>\n",
              "      <th>21609</th>\n",
              "      <td>6600060120</td>\n",
              "      <td>20150223T000000</td>\n",
              "      <td>400000.0</td>\n",
              "      <td>4</td>\n",
              "      <td>2.50</td>\n",
              "      <td>2310</td>\n",
              "      <td>5813</td>\n",
              "      <td>2.0</td>\n",
              "      <td>0</td>\n",
              "      <td>0</td>\n",
              "      <td>3</td>\n",
              "      <td>8</td>\n",
              "      <td>2310.0</td>\n",
              "      <td>0</td>\n",
              "      <td>2014</td>\n",
              "      <td>0</td>\n",
              "      <td>98146</td>\n",
              "      <td>47.5107</td>\n",
              "      <td>-122.362</td>\n",
              "      <td>1830</td>\n",
              "      <td>7200</td>\n",
              "    </tr>\n",
              "    <tr>\n",
              "      <th>21610</th>\n",
              "      <td>1523300141</td>\n",
              "      <td>20140623T000000</td>\n",
              "      <td>402101.0</td>\n",
              "      <td>2</td>\n",
              "      <td>0.75</td>\n",
              "      <td>1020</td>\n",
              "      <td>1350</td>\n",
              "      <td>2.0</td>\n",
              "      <td>0</td>\n",
              "      <td>0</td>\n",
              "      <td>3</td>\n",
              "      <td>7</td>\n",
              "      <td>1020.0</td>\n",
              "      <td>0</td>\n",
              "      <td>2009</td>\n",
              "      <td>0</td>\n",
              "      <td>98144</td>\n",
              "      <td>47.5944</td>\n",
              "      <td>-122.299</td>\n",
              "      <td>1020</td>\n",
              "      <td>2007</td>\n",
              "    </tr>\n",
              "    <tr>\n",
              "      <th>21611</th>\n",
              "      <td>291310100</td>\n",
              "      <td>20150116T000000</td>\n",
              "      <td>400000.0</td>\n",
              "      <td>3</td>\n",
              "      <td>2.50</td>\n",
              "      <td>1600</td>\n",
              "      <td>2388</td>\n",
              "      <td>2.0</td>\n",
              "      <td>0</td>\n",
              "      <td>0</td>\n",
              "      <td>3</td>\n",
              "      <td>8</td>\n",
              "      <td>1600.0</td>\n",
              "      <td>0</td>\n",
              "      <td>2004</td>\n",
              "      <td>0</td>\n",
              "      <td>98027</td>\n",
              "      <td>47.5345</td>\n",
              "      <td>-122.069</td>\n",
              "      <td>1410</td>\n",
              "      <td>1287</td>\n",
              "    </tr>\n",
              "    <tr>\n",
              "      <th>21612</th>\n",
              "      <td>1523300157</td>\n",
              "      <td>20141015T000000</td>\n",
              "      <td>325000.0</td>\n",
              "      <td>2</td>\n",
              "      <td>0.75</td>\n",
              "      <td>1020</td>\n",
              "      <td>1076</td>\n",
              "      <td>2.0</td>\n",
              "      <td>0</td>\n",
              "      <td>0</td>\n",
              "      <td>3</td>\n",
              "      <td>7</td>\n",
              "      <td>1020.0</td>\n",
              "      <td>0</td>\n",
              "      <td>2008</td>\n",
              "      <td>0</td>\n",
              "      <td>98144</td>\n",
              "      <td>47.5941</td>\n",
              "      <td>-122.299</td>\n",
              "      <td>1020</td>\n",
              "      <td>1357</td>\n",
              "    </tr>\n",
              "  </tbody>\n",
              "</table>\n",
              "<p>21613 rows × 21 columns</p>\n",
              "</div>"
            ],
            "text/plain": [
              "               id             date  ...  sqft_living15  sqft_lot15\n",
              "0      7129300520  20141013T000000  ...           1340        5650\n",
              "1      6414100192  20141209T000000  ...           1690        7639\n",
              "2      5631500400  20150225T000000  ...           2720        8062\n",
              "3      2487200875  20141209T000000  ...           1360        5000\n",
              "4      1954400510  20150218T000000  ...           1800        7503\n",
              "...           ...              ...  ...            ...         ...\n",
              "21608   263000018  20140521T000000  ...           1530        1509\n",
              "21609  6600060120  20150223T000000  ...           1830        7200\n",
              "21610  1523300141  20140623T000000  ...           1020        2007\n",
              "21611   291310100  20150116T000000  ...           1410        1287\n",
              "21612  1523300157  20141015T000000  ...           1020        1357\n",
              "\n",
              "[21613 rows x 21 columns]"
            ]
          },
          "metadata": {
            "tags": []
          },
          "execution_count": 59
        }
      ]
    },
    {
      "cell_type": "code",
      "metadata": {
        "id": "wfYdacVjJihQ"
      },
      "source": [
        "X = df[['bedrooms','bathrooms','sqft_living','floors','grade','lat','condition']]#,'zipcode'needs to be broken up into boolean categories\n",
        "Y = df[['price']]"
      ],
      "execution_count": null,
      "outputs": []
    },
    {
      "cell_type": "code",
      "metadata": {
        "id": "mglIihUeJpnP"
      },
      "source": [
        "#X_train, X_test, y_train, y_test = train_test_split(X, Y, test_size=0.2)\n",
        "X_train = pd.read_csv('drive/My Drive/Senior/Xtrain.csv')\n",
        "y_train = pd.read_csv('drive/My Drive/Senior/Ytrain.csv')\n",
        "X_test = pd.read_csv('drive/My Drive/Senior/Xtrain.csv')\n",
        "y_test = pd.read_csv('drive/My Drive/Senior/Ytrain.csv')\n",
        "\n",
        "X_test=X_test.drop(['Unnamed: 0'], axis=1)\n",
        "y_test=y_test.drop(['Unnamed: 0'], axis=1)\n",
        "X_train=X_train.drop(['Unnamed: 0'], axis=1)\n",
        "y_train=y_train.drop(['Unnamed: 0'], axis=1)"
      ],
      "execution_count": null,
      "outputs": []
    },
    {
      "cell_type": "code",
      "metadata": {
        "id": "pUnfYdMZJtBP"
      },
      "source": [
        "model = Sequential()"
      ],
      "execution_count": null,
      "outputs": []
    },
    {
      "cell_type": "code",
      "metadata": {
        "id": "3KAT3NogJwXf"
      },
      "source": [
        "model.add(keras.layers.Dense(37, activation='relu', input_shape=(9,)))\n",
        "model.add(keras.layers.Dense(64, activation='relu'))\n",
        "model.add(keras.layers.Dense(64, activation='relu'))\n",
        "model.add(keras.layers.Dense(64, activation='relu'))\n",
        "model.add(keras.layers.Dense(1))"
      ],
      "execution_count": null,
      "outputs": []
    },
    {
      "cell_type": "code",
      "metadata": {
        "colab": {
          "base_uri": "https://localhost:8080/"
        },
        "id": "CHuJ3Y4rVM45",
        "outputId": "f9d93e80-2ce5-49c0-e2e5-7a09720527e0"
      },
      "source": [
        "model.summary()"
      ],
      "execution_count": null,
      "outputs": [
        {
          "output_type": "stream",
          "text": [
            "Model: \"sequential_4\"\n",
            "_________________________________________________________________\n",
            "Layer (type)                 Output Shape              Param #   \n",
            "=================================================================\n",
            "dense_20 (Dense)             (None, 37)                370       \n",
            "_________________________________________________________________\n",
            "dense_21 (Dense)             (None, 64)                2432      \n",
            "_________________________________________________________________\n",
            "dense_22 (Dense)             (None, 64)                4160      \n",
            "_________________________________________________________________\n",
            "dense_23 (Dense)             (None, 64)                4160      \n",
            "_________________________________________________________________\n",
            "dense_24 (Dense)             (None, 1)                 65        \n",
            "=================================================================\n",
            "Total params: 11,187\n",
            "Trainable params: 11,187\n",
            "Non-trainable params: 0\n",
            "_________________________________________________________________\n"
          ],
          "name": "stdout"
        }
      ]
    },
    {
      "cell_type": "code",
      "metadata": {
        "id": "kdu9Bh0ZVMuT"
      },
      "source": [
        "model.compile(optimizer='adam', loss=[tf.keras.losses.MeanSquaredLogarithmicError()], metrics=['msle','mse'])"
      ],
      "execution_count": null,
      "outputs": []
    },
    {
      "cell_type": "code",
      "metadata": {
        "colab": {
          "base_uri": "https://localhost:8080/",
          "height": 419
        },
        "id": "POyaPUMOaj_H",
        "outputId": "ba87cbf1-3e46-49b7-d37b-f093f2a70b09"
      },
      "source": [
        "X_test\n"
      ],
      "execution_count": null,
      "outputs": [
        {
          "output_type": "execute_result",
          "data": {
            "text/html": [
              "<div>\n",
              "<style scoped>\n",
              "    .dataframe tbody tr th:only-of-type {\n",
              "        vertical-align: middle;\n",
              "    }\n",
              "\n",
              "    .dataframe tbody tr th {\n",
              "        vertical-align: top;\n",
              "    }\n",
              "\n",
              "    .dataframe thead th {\n",
              "        text-align: right;\n",
              "    }\n",
              "</style>\n",
              "<table border=\"1\" class=\"dataframe\">\n",
              "  <thead>\n",
              "    <tr style=\"text-align: right;\">\n",
              "      <th></th>\n",
              "      <th>bedrooms</th>\n",
              "      <th>bathrooms</th>\n",
              "      <th>sqft_living</th>\n",
              "      <th>floors</th>\n",
              "      <th>waterfront</th>\n",
              "      <th>view</th>\n",
              "      <th>grade</th>\n",
              "      <th>sqft_above</th>\n",
              "      <th>sqft_basement</th>\n",
              "    </tr>\n",
              "  </thead>\n",
              "  <tbody>\n",
              "    <tr>\n",
              "      <th>0</th>\n",
              "      <td>3</td>\n",
              "      <td>2.50</td>\n",
              "      <td>1760</td>\n",
              "      <td>2.0</td>\n",
              "      <td>0</td>\n",
              "      <td>0</td>\n",
              "      <td>8</td>\n",
              "      <td>1760.0</td>\n",
              "      <td>0</td>\n",
              "    </tr>\n",
              "    <tr>\n",
              "      <th>1</th>\n",
              "      <td>4</td>\n",
              "      <td>2.50</td>\n",
              "      <td>1940</td>\n",
              "      <td>2.0</td>\n",
              "      <td>0</td>\n",
              "      <td>0</td>\n",
              "      <td>8</td>\n",
              "      <td>1940.0</td>\n",
              "      <td>0</td>\n",
              "    </tr>\n",
              "    <tr>\n",
              "      <th>2</th>\n",
              "      <td>4</td>\n",
              "      <td>1.75</td>\n",
              "      <td>1840</td>\n",
              "      <td>1.0</td>\n",
              "      <td>0</td>\n",
              "      <td>0</td>\n",
              "      <td>7</td>\n",
              "      <td>1090.0</td>\n",
              "      <td>750</td>\n",
              "    </tr>\n",
              "    <tr>\n",
              "      <th>3</th>\n",
              "      <td>4</td>\n",
              "      <td>2.50</td>\n",
              "      <td>1910</td>\n",
              "      <td>1.0</td>\n",
              "      <td>0</td>\n",
              "      <td>0</td>\n",
              "      <td>8</td>\n",
              "      <td>1160.0</td>\n",
              "      <td>750</td>\n",
              "    </tr>\n",
              "    <tr>\n",
              "      <th>4</th>\n",
              "      <td>4</td>\n",
              "      <td>3.00</td>\n",
              "      <td>2940</td>\n",
              "      <td>2.0</td>\n",
              "      <td>0</td>\n",
              "      <td>1</td>\n",
              "      <td>9</td>\n",
              "      <td>2220.0</td>\n",
              "      <td>720</td>\n",
              "    </tr>\n",
              "    <tr>\n",
              "      <th>...</th>\n",
              "      <td>...</td>\n",
              "      <td>...</td>\n",
              "      <td>...</td>\n",
              "      <td>...</td>\n",
              "      <td>...</td>\n",
              "      <td>...</td>\n",
              "      <td>...</td>\n",
              "      <td>...</td>\n",
              "      <td>...</td>\n",
              "    </tr>\n",
              "    <tr>\n",
              "      <th>17283</th>\n",
              "      <td>4</td>\n",
              "      <td>1.75</td>\n",
              "      <td>1700</td>\n",
              "      <td>1.0</td>\n",
              "      <td>0</td>\n",
              "      <td>0</td>\n",
              "      <td>8</td>\n",
              "      <td>1700.0</td>\n",
              "      <td>0</td>\n",
              "    </tr>\n",
              "    <tr>\n",
              "      <th>17284</th>\n",
              "      <td>2</td>\n",
              "      <td>1.00</td>\n",
              "      <td>710</td>\n",
              "      <td>1.0</td>\n",
              "      <td>0</td>\n",
              "      <td>0</td>\n",
              "      <td>6</td>\n",
              "      <td>710.0</td>\n",
              "      <td>0</td>\n",
              "    </tr>\n",
              "    <tr>\n",
              "      <th>17285</th>\n",
              "      <td>2</td>\n",
              "      <td>1.75</td>\n",
              "      <td>1350</td>\n",
              "      <td>2.0</td>\n",
              "      <td>0</td>\n",
              "      <td>0</td>\n",
              "      <td>7</td>\n",
              "      <td>1350.0</td>\n",
              "      <td>0</td>\n",
              "    </tr>\n",
              "    <tr>\n",
              "      <th>17286</th>\n",
              "      <td>3</td>\n",
              "      <td>1.75</td>\n",
              "      <td>1820</td>\n",
              "      <td>2.0</td>\n",
              "      <td>0</td>\n",
              "      <td>0</td>\n",
              "      <td>7</td>\n",
              "      <td>1820.0</td>\n",
              "      <td>0</td>\n",
              "    </tr>\n",
              "    <tr>\n",
              "      <th>17287</th>\n",
              "      <td>4</td>\n",
              "      <td>2.50</td>\n",
              "      <td>2310</td>\n",
              "      <td>2.0</td>\n",
              "      <td>0</td>\n",
              "      <td>0</td>\n",
              "      <td>9</td>\n",
              "      <td>2310.0</td>\n",
              "      <td>0</td>\n",
              "    </tr>\n",
              "  </tbody>\n",
              "</table>\n",
              "<p>17288 rows × 9 columns</p>\n",
              "</div>"
            ],
            "text/plain": [
              "       bedrooms  bathrooms  sqft_living  ...  grade  sqft_above  sqft_basement\n",
              "0             3       2.50         1760  ...      8      1760.0              0\n",
              "1             4       2.50         1940  ...      8      1940.0              0\n",
              "2             4       1.75         1840  ...      7      1090.0            750\n",
              "3             4       2.50         1910  ...      8      1160.0            750\n",
              "4             4       3.00         2940  ...      9      2220.0            720\n",
              "...         ...        ...          ...  ...    ...         ...            ...\n",
              "17283         4       1.75         1700  ...      8      1700.0              0\n",
              "17284         2       1.00          710  ...      6       710.0              0\n",
              "17285         2       1.75         1350  ...      7      1350.0              0\n",
              "17286         3       1.75         1820  ...      7      1820.0              0\n",
              "17287         4       2.50         2310  ...      9      2310.0              0\n",
              "\n",
              "[17288 rows x 9 columns]"
            ]
          },
          "metadata": {
            "tags": []
          },
          "execution_count": 66
        }
      ]
    },
    {
      "cell_type": "code",
      "metadata": {
        "colab": {
          "base_uri": "https://localhost:8080/",
          "height": 419
        },
        "id": "CX8wsH1JxbD4",
        "outputId": "a95abc22-4d4b-4865-f6fb-805fbc24646e"
      },
      "source": [
        "y_test"
      ],
      "execution_count": null,
      "outputs": [
        {
          "output_type": "execute_result",
          "data": {
            "text/html": [
              "<div>\n",
              "<style scoped>\n",
              "    .dataframe tbody tr th:only-of-type {\n",
              "        vertical-align: middle;\n",
              "    }\n",
              "\n",
              "    .dataframe tbody tr th {\n",
              "        vertical-align: top;\n",
              "    }\n",
              "\n",
              "    .dataframe thead th {\n",
              "        text-align: right;\n",
              "    }\n",
              "</style>\n",
              "<table border=\"1\" class=\"dataframe\">\n",
              "  <thead>\n",
              "    <tr style=\"text-align: right;\">\n",
              "      <th></th>\n",
              "      <th>price</th>\n",
              "    </tr>\n",
              "  </thead>\n",
              "  <tbody>\n",
              "    <tr>\n",
              "      <th>0</th>\n",
              "      <td>485000.0</td>\n",
              "    </tr>\n",
              "    <tr>\n",
              "      <th>1</th>\n",
              "      <td>390000.0</td>\n",
              "    </tr>\n",
              "    <tr>\n",
              "      <th>2</th>\n",
              "      <td>279000.0</td>\n",
              "    </tr>\n",
              "    <tr>\n",
              "      <th>3</th>\n",
              "      <td>515000.0</td>\n",
              "    </tr>\n",
              "    <tr>\n",
              "      <th>4</th>\n",
              "      <td>870000.0</td>\n",
              "    </tr>\n",
              "    <tr>\n",
              "      <th>...</th>\n",
              "      <td>...</td>\n",
              "    </tr>\n",
              "    <tr>\n",
              "      <th>17283</th>\n",
              "      <td>616000.0</td>\n",
              "    </tr>\n",
              "    <tr>\n",
              "      <th>17284</th>\n",
              "      <td>289000.0</td>\n",
              "    </tr>\n",
              "    <tr>\n",
              "      <th>17285</th>\n",
              "      <td>405000.0</td>\n",
              "    </tr>\n",
              "    <tr>\n",
              "      <th>17286</th>\n",
              "      <td>299500.0</td>\n",
              "    </tr>\n",
              "    <tr>\n",
              "      <th>17287</th>\n",
              "      <td>495000.0</td>\n",
              "    </tr>\n",
              "  </tbody>\n",
              "</table>\n",
              "<p>17288 rows × 1 columns</p>\n",
              "</div>"
            ],
            "text/plain": [
              "          price\n",
              "0      485000.0\n",
              "1      390000.0\n",
              "2      279000.0\n",
              "3      515000.0\n",
              "4      870000.0\n",
              "...         ...\n",
              "17283  616000.0\n",
              "17284  289000.0\n",
              "17285  405000.0\n",
              "17286  299500.0\n",
              "17287  495000.0\n",
              "\n",
              "[17288 rows x 1 columns]"
            ]
          },
          "metadata": {
            "tags": []
          },
          "execution_count": 67
        }
      ]
    },
    {
      "cell_type": "code",
      "metadata": {
        "colab": {
          "base_uri": "https://localhost:8080/"
        },
        "id": "m7V3D_woJxwB",
        "outputId": "a94d7d59-7294-4557-8a14-4e9c0e1bd118"
      },
      "source": [
        "model.fit(X_train, y_train, epochs=40, callbacks =[keras.callbacks.EarlyStopping(patience=5)], validation_data=(X_test, y_test), validation_batch_size=4323)#"
      ],
      "execution_count": null,
      "outputs": [
        {
          "output_type": "stream",
          "text": [
            "Epoch 1/40\n",
            "541/541 [==============================] - 2s 2ms/step - loss: 13.6491 - msle: 13.6491 - mse: 315191050965.4908 - val_loss: 0.1556 - val_msle: 0.1556 - val_mse: 70521307136.0000\n",
            "Epoch 2/40\n",
            "541/541 [==============================] - 1s 2ms/step - loss: 0.1561 - msle: 0.1561 - mse: 73869259847.7934 - val_loss: 0.1551 - val_msle: 0.1551 - val_mse: 69045452800.0000\n",
            "Epoch 3/40\n",
            "541/541 [==============================] - 1s 2ms/step - loss: 0.1552 - msle: 0.1552 - mse: 71810010157.3432 - val_loss: 0.1552 - val_msle: 0.1552 - val_mse: 68748107776.0000\n",
            "Epoch 4/40\n",
            "541/541 [==============================] - 1s 2ms/step - loss: 0.1538 - msle: 0.1538 - mse: 69191087735.0258 - val_loss: 0.1551 - val_msle: 0.1551 - val_mse: 68830904320.0000\n",
            "Epoch 5/40\n",
            "541/541 [==============================] - 1s 2ms/step - loss: 0.1526 - msle: 0.1526 - mse: 67681925732.1328 - val_loss: 0.1551 - val_msle: 0.1551 - val_mse: 70146662400.0000\n",
            "Epoch 6/40\n",
            "541/541 [==============================] - 1s 2ms/step - loss: 0.1563 - msle: 0.1563 - mse: 71139546486.0812 - val_loss: 0.1548 - val_msle: 0.1548 - val_mse: 68900806656.0000\n",
            "Epoch 7/40\n",
            "541/541 [==============================] - 1s 2ms/step - loss: 0.1562 - msle: 0.1562 - mse: 67015191638.9077 - val_loss: 0.1543 - val_msle: 0.1543 - val_mse: 69131403264.0000\n",
            "Epoch 8/40\n",
            "541/541 [==============================] - 1s 2ms/step - loss: 0.1549 - msle: 0.1549 - mse: 68455864055.4982 - val_loss: 0.1539 - val_msle: 0.1539 - val_mse: 69273092096.0000\n",
            "Epoch 9/40\n",
            "541/541 [==============================] - 1s 2ms/step - loss: 0.1534 - msle: 0.1534 - mse: 67834893595.3948 - val_loss: 0.1537 - val_msle: 0.1537 - val_mse: 68724514816.0000\n",
            "Epoch 10/40\n",
            "541/541 [==============================] - 1s 2ms/step - loss: 0.1526 - msle: 0.1526 - mse: 66183227101.0480 - val_loss: 0.1532 - val_msle: 0.1532 - val_mse: 68171960320.0000\n",
            "Epoch 11/40\n",
            "541/541 [==============================] - 1s 2ms/step - loss: 0.1535 - msle: 0.1535 - mse: 68164591978.7454 - val_loss: 0.1529 - val_msle: 0.1529 - val_mse: 68030222336.0000\n",
            "Epoch 12/40\n",
            "541/541 [==============================] - 1s 2ms/step - loss: 0.1535 - msle: 0.1535 - mse: 70330098283.6900 - val_loss: 0.1528 - val_msle: 0.1528 - val_mse: 69591859200.0000\n",
            "Epoch 13/40\n",
            "541/541 [==============================] - 1s 2ms/step - loss: 0.1557 - msle: 0.1557 - mse: 72022152157.9926 - val_loss: 0.1526 - val_msle: 0.1526 - val_mse: 67233968128.0000\n",
            "Epoch 14/40\n",
            "541/541 [==============================] - 1s 2ms/step - loss: 0.1537 - msle: 0.1537 - mse: 69470870781.1660 - val_loss: 0.1515 - val_msle: 0.1515 - val_mse: 68876353536.0000\n",
            "Epoch 15/40\n",
            "541/541 [==============================] - 1s 2ms/step - loss: 0.1522 - msle: 0.1522 - mse: 68659215394.0074 - val_loss: 0.1531 - val_msle: 0.1531 - val_mse: 71125999616.0000\n",
            "Epoch 16/40\n",
            "541/541 [==============================] - 1s 2ms/step - loss: 0.1524 - msle: 0.1524 - mse: 69045852900.6052 - val_loss: 0.1508 - val_msle: 0.1508 - val_mse: 66597969920.0000\n",
            "Epoch 17/40\n",
            "541/541 [==============================] - 1s 2ms/step - loss: 0.1512 - msle: 0.1512 - mse: 75675211080.7380 - val_loss: 0.1497 - val_msle: 0.1497 - val_mse: 66876350464.0000\n",
            "Epoch 18/40\n",
            "541/541 [==============================] - 1s 2ms/step - loss: 0.1512 - msle: 0.1512 - mse: 70424294547.3653 - val_loss: 0.1487 - val_msle: 0.1487 - val_mse: 66986119168.0000\n",
            "Epoch 19/40\n",
            "541/541 [==============================] - 1s 2ms/step - loss: 0.1506 - msle: 0.1506 - mse: 72165352580.2509 - val_loss: 0.1476 - val_msle: 0.1476 - val_mse: 67247390720.0000\n",
            "Epoch 20/40\n",
            "541/541 [==============================] - 1s 2ms/step - loss: 0.1469 - msle: 0.1469 - mse: 65599418190.4059 - val_loss: 0.1465 - val_msle: 0.1465 - val_mse: 67791892480.0000\n",
            "Epoch 21/40\n",
            "541/541 [==============================] - 1s 2ms/step - loss: 0.1474 - msle: 0.1474 - mse: 67488026140.3395 - val_loss: 0.1454 - val_msle: 0.1454 - val_mse: 65532125184.0000\n",
            "Epoch 22/40\n",
            "541/541 [==============================] - 1s 2ms/step - loss: 0.1444 - msle: 0.1444 - mse: 72315857341.8745 - val_loss: 0.1478 - val_msle: 0.1478 - val_mse: 64336093184.0000\n",
            "Epoch 23/40\n",
            "541/541 [==============================] - 1s 2ms/step - loss: 0.1455 - msle: 0.1455 - mse: 70439799056.0590 - val_loss: 0.1440 - val_msle: 0.1440 - val_mse: 71450705920.0000\n",
            "Epoch 24/40\n",
            "541/541 [==============================] - 1s 2ms/step - loss: 0.1436 - msle: 0.1436 - mse: 70635681996.0443 - val_loss: 0.1403 - val_msle: 0.1403 - val_mse: 64323743744.0000\n",
            "Epoch 25/40\n",
            "541/541 [==============================] - 1s 2ms/step - loss: 0.1382 - msle: 0.1382 - mse: 66392598528.0000 - val_loss: 0.1381 - val_msle: 0.1381 - val_mse: 70332915712.0000\n",
            "Epoch 26/40\n",
            "541/541 [==============================] - 1s 2ms/step - loss: 0.1350 - msle: 0.1350 - mse: 64649953041.9483 - val_loss: 0.1395 - val_msle: 0.1395 - val_mse: 62966030336.0000\n",
            "Epoch 27/40\n",
            "541/541 [==============================] - 1s 2ms/step - loss: 0.1340 - msle: 0.1340 - mse: 63909939532.5166 - val_loss: 0.1320 - val_msle: 0.1320 - val_mse: 65973907456.0000\n",
            "Epoch 28/40\n",
            "541/541 [==============================] - 1s 2ms/step - loss: 0.1318 - msle: 0.1318 - mse: 65166063755.8081 - val_loss: 0.1352 - val_msle: 0.1352 - val_mse: 63974711296.0000\n",
            "Epoch 29/40\n",
            "541/541 [==============================] - 1s 2ms/step - loss: 0.1339 - msle: 0.1339 - mse: 71228426035.9557 - val_loss: 0.1308 - val_msle: 0.1308 - val_mse: 68935598080.0000\n",
            "Epoch 30/40\n",
            "541/541 [==============================] - 1s 2ms/step - loss: 0.1321 - msle: 0.1321 - mse: 71740721378.7159 - val_loss: 0.1302 - val_msle: 0.1302 - val_mse: 67385413632.0000\n",
            "Epoch 31/40\n",
            "541/541 [==============================] - 1s 2ms/step - loss: 0.1321 - msle: 0.1321 - mse: 69603957038.2878 - val_loss: 0.1305 - val_msle: 0.1305 - val_mse: 65407619072.0000\n",
            "Epoch 32/40\n",
            "541/541 [==============================] - 1s 2ms/step - loss: 0.1339 - msle: 0.1339 - mse: 70595551927.2620 - val_loss: 0.1372 - val_msle: 0.1372 - val_mse: 74338508800.0000\n",
            "Epoch 33/40\n",
            "541/541 [==============================] - 1s 2ms/step - loss: 0.1308 - msle: 0.1308 - mse: 68948909294.0517 - val_loss: 0.1294 - val_msle: 0.1294 - val_mse: 66538020864.0000\n",
            "Epoch 34/40\n",
            "541/541 [==============================] - 1s 2ms/step - loss: 0.1316 - msle: 0.1316 - mse: 66735019004.2214 - val_loss: 0.1337 - val_msle: 0.1337 - val_mse: 70611222528.0000\n",
            "Epoch 35/40\n",
            "541/541 [==============================] - 1s 2ms/step - loss: 0.1342 - msle: 0.1342 - mse: 68632560772.2509 - val_loss: 0.1295 - val_msle: 0.1295 - val_mse: 67654778880.0000\n",
            "Epoch 36/40\n",
            "541/541 [==============================] - 1s 2ms/step - loss: 0.1311 - msle: 0.1311 - mse: 68709398320.1771 - val_loss: 0.1288 - val_msle: 0.1288 - val_mse: 66615197696.0000\n",
            "Epoch 37/40\n",
            "541/541 [==============================] - 1s 2ms/step - loss: 0.1285 - msle: 0.1285 - mse: 67356036288.7085 - val_loss: 0.1289 - val_msle: 0.1289 - val_mse: 66126880768.0000\n",
            "Epoch 38/40\n",
            "541/541 [==============================] - 1s 2ms/step - loss: 0.1329 - msle: 0.1329 - mse: 71318869071.3506 - val_loss: 0.1290 - val_msle: 0.1290 - val_mse: 67470905344.0000\n",
            "Epoch 39/40\n",
            "541/541 [==============================] - 1s 2ms/step - loss: 0.1289 - msle: 0.1289 - mse: 62015644955.3948 - val_loss: 0.1355 - val_msle: 0.1355 - val_mse: 72862326784.0000\n",
            "Epoch 40/40\n",
            "541/541 [==============================] - 1s 2ms/step - loss: 0.1307 - msle: 0.1307 - mse: 67736397438.5830 - val_loss: 0.1297 - val_msle: 0.1297 - val_mse: 64470290432.0000\n"
          ],
          "name": "stdout"
        },
        {
          "output_type": "execute_result",
          "data": {
            "text/plain": [
              "<tensorflow.python.keras.callbacks.History at 0x7fc3c13f1610>"
            ]
          },
          "metadata": {
            "tags": []
          },
          "execution_count": 68
        }
      ]
    },
    {
      "cell_type": "code",
      "metadata": {
        "colab": {
          "base_uri": "https://localhost:8080/",
          "height": 419
        },
        "id": "MqYcYjMGsiSe",
        "outputId": "849d0f15-533e-4947-bc0b-41464de3e9e5"
      },
      "source": [
        "y_test"
      ],
      "execution_count": null,
      "outputs": [
        {
          "output_type": "execute_result",
          "data": {
            "text/html": [
              "<div>\n",
              "<style scoped>\n",
              "    .dataframe tbody tr th:only-of-type {\n",
              "        vertical-align: middle;\n",
              "    }\n",
              "\n",
              "    .dataframe tbody tr th {\n",
              "        vertical-align: top;\n",
              "    }\n",
              "\n",
              "    .dataframe thead th {\n",
              "        text-align: right;\n",
              "    }\n",
              "</style>\n",
              "<table border=\"1\" class=\"dataframe\">\n",
              "  <thead>\n",
              "    <tr style=\"text-align: right;\">\n",
              "      <th></th>\n",
              "      <th>price</th>\n",
              "    </tr>\n",
              "  </thead>\n",
              "  <tbody>\n",
              "    <tr>\n",
              "      <th>0</th>\n",
              "      <td>485000.0</td>\n",
              "    </tr>\n",
              "    <tr>\n",
              "      <th>1</th>\n",
              "      <td>390000.0</td>\n",
              "    </tr>\n",
              "    <tr>\n",
              "      <th>2</th>\n",
              "      <td>279000.0</td>\n",
              "    </tr>\n",
              "    <tr>\n",
              "      <th>3</th>\n",
              "      <td>515000.0</td>\n",
              "    </tr>\n",
              "    <tr>\n",
              "      <th>4</th>\n",
              "      <td>870000.0</td>\n",
              "    </tr>\n",
              "    <tr>\n",
              "      <th>...</th>\n",
              "      <td>...</td>\n",
              "    </tr>\n",
              "    <tr>\n",
              "      <th>17283</th>\n",
              "      <td>616000.0</td>\n",
              "    </tr>\n",
              "    <tr>\n",
              "      <th>17284</th>\n",
              "      <td>289000.0</td>\n",
              "    </tr>\n",
              "    <tr>\n",
              "      <th>17285</th>\n",
              "      <td>405000.0</td>\n",
              "    </tr>\n",
              "    <tr>\n",
              "      <th>17286</th>\n",
              "      <td>299500.0</td>\n",
              "    </tr>\n",
              "    <tr>\n",
              "      <th>17287</th>\n",
              "      <td>495000.0</td>\n",
              "    </tr>\n",
              "  </tbody>\n",
              "</table>\n",
              "<p>17288 rows × 1 columns</p>\n",
              "</div>"
            ],
            "text/plain": [
              "          price\n",
              "0      485000.0\n",
              "1      390000.0\n",
              "2      279000.0\n",
              "3      515000.0\n",
              "4      870000.0\n",
              "...         ...\n",
              "17283  616000.0\n",
              "17284  289000.0\n",
              "17285  405000.0\n",
              "17286  299500.0\n",
              "17287  495000.0\n",
              "\n",
              "[17288 rows x 1 columns]"
            ]
          },
          "metadata": {
            "tags": []
          },
          "execution_count": 69
        }
      ]
    },
    {
      "cell_type": "code",
      "metadata": {
        "colab": {
          "base_uri": "https://localhost:8080/"
        },
        "id": "65qaK1DLPR72",
        "outputId": "57fd1b6f-b689-4386-e913-474c706ef6d7"
      },
      "source": [
        "model.summary()\n"
      ],
      "execution_count": null,
      "outputs": [
        {
          "output_type": "stream",
          "text": [
            "Model: \"sequential_4\"\n",
            "_________________________________________________________________\n",
            "Layer (type)                 Output Shape              Param #   \n",
            "=================================================================\n",
            "dense_20 (Dense)             (None, 37)                370       \n",
            "_________________________________________________________________\n",
            "dense_21 (Dense)             (None, 64)                2432      \n",
            "_________________________________________________________________\n",
            "dense_22 (Dense)             (None, 64)                4160      \n",
            "_________________________________________________________________\n",
            "dense_23 (Dense)             (None, 64)                4160      \n",
            "_________________________________________________________________\n",
            "dense_24 (Dense)             (None, 1)                 65        \n",
            "=================================================================\n",
            "Total params: 11,187\n",
            "Trainable params: 11,187\n",
            "Non-trainable params: 0\n",
            "_________________________________________________________________\n"
          ],
          "name": "stdout"
        }
      ]
    },
    {
      "cell_type": "code",
      "metadata": {
        "colab": {
          "base_uri": "https://localhost:8080/"
        },
        "id": "DmlL8MW6J3F1",
        "outputId": "c9314a7f-1a5f-4c0d-93eb-e44c20823564"
      },
      "source": [
        "test_data = np.array([4,\t1.75,\t1840,\t1.0,\t0,\t0,\t7,\t1090.0,\t750])\n",
        "\n",
        "print(model.predict(test_data.reshape(1,9), batch_size=1))"
      ],
      "execution_count": null,
      "outputs": [
        {
          "output_type": "stream",
          "text": [
            "[[432169.25]]\n"
          ],
          "name": "stdout"
        }
      ]
    },
    {
      "cell_type": "code",
      "metadata": {
        "colab": {
          "base_uri": "https://localhost:8080/",
          "height": 775
        },
        "id": "Mj-44BbHY1YI",
        "outputId": "97472be6-e8ce-43a0-fc0d-923e4b960daa"
      },
      "source": [
        "history = model.fit(X_train, y_train, epochs=40, callbacks =[keras.callbacks.EarlyStopping(patience=5)], validation_data=(X_test, y_test), validation_batch_size=14515)\n",
        "# plot metrics\n",
        "plt.plot(history.history['msle'])\n",
        "plt.plot(history.history['val_msle'])\n",
        "plt.plot(history.history['loss'])\n",
        "plt.show()"
      ],
      "execution_count": null,
      "outputs": [
        {
          "output_type": "stream",
          "text": [
            "Epoch 1/40\n",
            "541/541 [==============================] - 1s 2ms/step - loss: 0.1305 - msle: 0.1305 - mse: 66324021248.0000 - val_loss: 0.1297 - val_msle: 0.1297 - val_mse: 68035547136.0000\n",
            "Epoch 2/40\n",
            "541/541 [==============================] - 1s 2ms/step - loss: 0.1303 - msle: 0.1303 - mse: 66064707584.0000 - val_loss: 0.1285 - val_msle: 0.1285 - val_mse: 65018273792.0000\n",
            "Epoch 3/40\n",
            "541/541 [==============================] - 1s 2ms/step - loss: 0.1303 - msle: 0.1303 - mse: 66001125376.0000 - val_loss: 0.1326 - val_msle: 0.1326 - val_mse: 69396381696.0000\n",
            "Epoch 4/40\n",
            "541/541 [==============================] - 1s 2ms/step - loss: 0.1304 - msle: 0.1304 - mse: 65875345408.0000 - val_loss: 0.1297 - val_msle: 0.1297 - val_mse: 62367277056.0000\n",
            "Epoch 5/40\n",
            "541/541 [==============================] - 1s 2ms/step - loss: 0.1301 - msle: 0.1301 - mse: 65723969536.0000 - val_loss: 0.1292 - val_msle: 0.1292 - val_mse: 64429793280.0000\n",
            "Epoch 6/40\n",
            "541/541 [==============================] - 1s 2ms/step - loss: 0.1297 - msle: 0.1297 - mse: 65410768896.0000 - val_loss: 0.1277 - val_msle: 0.1277 - val_mse: 64763531264.0000\n",
            "Epoch 7/40\n",
            "541/541 [==============================] - 1s 2ms/step - loss: 0.1298 - msle: 0.1298 - mse: 65315192832.0000 - val_loss: 0.1309 - val_msle: 0.1309 - val_mse: 62094225408.0000\n",
            "Epoch 8/40\n",
            "541/541 [==============================] - 1s 2ms/step - loss: 0.1295 - msle: 0.1295 - mse: 65165774848.0000 - val_loss: 0.1286 - val_msle: 0.1286 - val_mse: 63645347840.0000\n",
            "Epoch 9/40\n",
            "541/541 [==============================] - 1s 2ms/step - loss: 0.1296 - msle: 0.1296 - mse: 65153306624.0000 - val_loss: 0.1297 - val_msle: 0.1297 - val_mse: 61868408832.0000\n",
            "Epoch 10/40\n",
            "541/541 [==============================] - 1s 2ms/step - loss: 0.1299 - msle: 0.1299 - mse: 65059741696.0000 - val_loss: 0.1273 - val_msle: 0.1273 - val_mse: 65054842880.0000\n",
            "Epoch 11/40\n",
            "541/541 [==============================] - 1s 2ms/step - loss: 0.1290 - msle: 0.1290 - mse: 64839757824.0000 - val_loss: 0.1295 - val_msle: 0.1295 - val_mse: 61437210624.0000\n",
            "Epoch 12/40\n",
            "541/541 [==============================] - 1s 2ms/step - loss: 0.1297 - msle: 0.1297 - mse: 64789139456.0000 - val_loss: 0.1298 - val_msle: 0.1298 - val_mse: 69099708416.0000\n",
            "Epoch 13/40\n",
            "541/541 [==============================] - 1s 2ms/step - loss: 0.1290 - msle: 0.1290 - mse: 64857149440.0000 - val_loss: 0.1274 - val_msle: 0.1274 - val_mse: 65562890240.0000\n",
            "Epoch 14/40\n",
            "541/541 [==============================] - 1s 2ms/step - loss: 0.1289 - msle: 0.1289 - mse: 64589987840.0000 - val_loss: 0.1301 - val_msle: 0.1301 - val_mse: 68254875648.0000\n",
            "Epoch 15/40\n",
            "541/541 [==============================] - 1s 2ms/step - loss: 0.1294 - msle: 0.1294 - mse: 64726609920.0000 - val_loss: 0.1287 - val_msle: 0.1287 - val_mse: 62066311168.0000\n"
          ],
          "name": "stdout"
        },
        {
          "output_type": "display_data",
          "data": {
            "image/png": "[encoded data removed]",
            "text/plain": [
              "<Figure size 432x288 with 1 Axes>"
            ]
          },
          "metadata": {
            "tags": [],
            "needs_background": "light"
          }
        }
      ]
    },
    {
      "cell_type": "code",
      "metadata": {
        "colab": {
          "base_uri": "https://localhost:8080/"
        },
        "id": "yJ1WhOx_lOpR",
        "outputId": "25b2eb2b-fe5d-4010-8046-198a10d1993d"
      },
      "source": [
        "model.save('finalFinalModel')"
      ],
      "execution_count": null,
      "outputs": [
        {
          "output_type": "stream",
          "text": [
            "INFO:tensorflow:Assets written to: finalFinalModel/assets\n"
          ],
          "name": "stdout"
        }
      ]
    },
    {
      "cell_type": "code",
      "metadata": {
        "colab": {
          "base_uri": "https://localhost:8080/"
        },
        "id": "YX5GJjf-qgFN",
        "outputId": "9ed8b4a1-e94c-421b-cbf8-8f31e44d08ca"
      },
      "source": [
        "test_data = np.array([4,\t3.00,\t2940,\t2.0,\t0,\t1,\t9,\t2220.0,\t720])\n",
        "\n",
        "print(model.predict(test_data.reshape(1,9), batch_size=1))"
      ],
      "execution_count": null,
      "outputs": [
        {
          "output_type": "stream",
          "text": [
            "[[778122.75]]\n"
          ],
          "name": "stdout"
        }
      ]
    },
    {
      "cell_type": "code",
      "metadata": {
        "id": "UH4Qi9FdgcSv"
      },
      "source": [
        "df.isnull().sum()"
      ],
      "execution_count": null,
      "outputs": []
    }
  ]
}